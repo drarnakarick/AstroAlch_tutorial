{
 "cells": [
  {
   "cell_type": "markdown",
   "metadata": {},
   "source": [
    "# Tutorial 2: Interacting with Databases in Sessions\n",
    "\n",
    "In this tutorial we will create and then interact with a *relational* SQLite database, using `sqlalchemy`'s `Session` object.\n",
    "\n",
    "We will:\n",
    "\n",
    "* Create a relational database containing two linked tables: \"Objects\" (with ID, ra and dec) and \"Distances\" (with ID and distance).\n",
    "* Retrieve data into numpy arrays so that it can be used For Science.\n",
    "\n",
    "This tutorial was adapted for astronomy from [the one at `pythoncentral.io`](http://pythoncentral.io/introductory-tutorial-python-sqlalchemy/).\n",
    "\n",
    "### Requirements\n",
    "\n",
    "You will need to have `sqlalchemy` installed.\n",
    "```\n",
    "pip install sqlalchemy\n",
    "```"
   ]
  },
  {
   "cell_type": "code",
   "execution_count": 15,
   "metadata": {
    "collapsed": true
   },
   "outputs": [],
   "source": [
    "import sqlalchemy as sq\n",
    "import os\n",
    "import numpy as np\n",
    "import random"
   ]
  },
  {
   "cell_type": "markdown",
   "metadata": {},
   "source": [
    "In the previous tutorial, we used a somewhat manual approach where we separately defined a Table in a database, a mapper that would connect a python object to the database, and the python object itself. This is tedious.\n",
    "\n",
    "In this tutorial, we will use an alternative approach: declaratives. The advantage of using declaratives is that they allow us to define `Table`, mappers and python objects at once in a class definition. Let's see."
   ]
  },
  {
   "cell_type": "code",
   "execution_count": 3,
   "metadata": {
    "collapsed": true
   },
   "outputs": [],
   "source": [
    "from sqlalchemy.ext.declarative import declarative_base"
   ]
  },
  {
   "cell_type": "markdown",
   "metadata": {},
   "source": [
    "## Creating Database"
   ]
  },
  {
   "cell_type": "markdown",
   "metadata": {},
   "source": [
    "Initialize a declarative."
   ]
  },
  {
   "cell_type": "code",
   "execution_count": 4,
   "metadata": {
    "collapsed": true
   },
   "outputs": [],
   "source": [
    "Base = declarative_base()"
   ]
  },
  {
   "cell_type": "markdown",
   "metadata": {},
   "source": [
    "Now, we create Python class objects for two linked tables: \"Objects\" and \"Distances\"."
   ]
  },
  {
   "cell_type": "code",
   "execution_count": 5,
   "metadata": {
    "collapsed": false
   },
   "outputs": [],
   "source": [
    "class Object(Base):\n",
    "    __tablename__ = 'object'\n",
    "    \n",
    "    #Define columns like we did in the last notebook\n",
    "    id = sq.Column(sq.Integer, primary_key=True)\n",
    "    ra = sq.Column(sq.Float, nullable=False)\n",
    "    dec = sq.Column(sq.Float, nullable=False)\n",
    "\n",
    "    \n",
    "class Distance(Base):\n",
    "    __tablename__ = 'distance'\n",
    "    \n",
    "    #Again define columns like above. These columns\n",
    "    #are normal python instance attributes.\n",
    "    id = sq.Column(sq.Integer, primary_key=True)\n",
    "    object_id = sq.Column(sq.Integer, sq.ForeignKey(\"object.id\"), nullable=False)\n",
    "    distance = sq.Column(sq.Float, nullable=False)"
   ]
  },
  {
   "cell_type": "markdown",
   "metadata": {},
   "source": [
    "Create a local engine to store data, and remove one if it already exists."
   ]
  },
  {
   "cell_type": "code",
   "execution_count": 6,
   "metadata": {
    "collapsed": true
   },
   "outputs": [],
   "source": [
    "dbfile = 'sessions.db'\n",
    "\n",
    "try: os.remove(dbfile)\n",
    "except: pass"
   ]
  },
  {
   "cell_type": "code",
   "execution_count": 7,
   "metadata": {
    "collapsed": false
   },
   "outputs": [],
   "source": [
    "engine = sq.create_engine('sqlite:///'+dbfile)"
   ]
  },
  {
   "cell_type": "markdown",
   "metadata": {},
   "source": [
    "Now, create tables in the database that we defined above."
   ]
  },
  {
   "cell_type": "code",
   "execution_count": 8,
   "metadata": {
    "collapsed": false
   },
   "outputs": [],
   "source": [
    "Base.metadata.create_all(engine)"
   ]
  },
  {
   "cell_type": "markdown",
   "metadata": {},
   "source": [
    "Check the size of database. It is filled with metadata, but there aren't any entries yet."
   ]
  },
  {
   "cell_type": "code",
   "execution_count": 9,
   "metadata": {
    "collapsed": false
   },
   "outputs": [
    {
     "name": "stdout",
     "output_type": "stream",
     "text": [
      "   12288 sessions.db\r\n"
     ]
    }
   ],
   "source": [
    "!wc -c $dbfile"
   ]
  },
  {
   "cell_type": "markdown",
   "metadata": {},
   "source": [
    "## Inserting Data"
   ]
  },
  {
   "cell_type": "markdown",
   "metadata": {},
   "source": [
    "For all the subequent operations (insert, update, delete, etc.), we are going to use a `sessionmaker` that establishes all conversations with the database. A session represents a 'stagging zone' for all the objects loaded into the database, just like in git. Any changes won't be persisted into the database until they are committed.\n",
    "\n",
    "Notice that we use ORM module of sqlalchemy to import sessionmaker. ORM stands for Object-relational mapping and is a technique to make relational data compatible with object oriented languages."
   ]
  },
  {
   "cell_type": "code",
   "execution_count": 10,
   "metadata": {
    "collapsed": false
   },
   "outputs": [],
   "source": [
    "from sqlalchemy.orm import sessionmaker"
   ]
  },
  {
   "cell_type": "markdown",
   "metadata": {},
   "source": [
    "Bind the engine to the metadata of the Base class so that the declaratives can be accessed through a DBSession instance."
   ]
  },
  {
   "cell_type": "code",
   "execution_count": 11,
   "metadata": {
    "collapsed": true
   },
   "outputs": [],
   "source": [
    "Base.metadata.bind = engine"
   ]
  },
  {
   "cell_type": "code",
   "execution_count": 12,
   "metadata": {
    "collapsed": true
   },
   "outputs": [],
   "source": [
    "DBSession = sessionmaker(bind=engine)"
   ]
  },
  {
   "cell_type": "code",
   "execution_count": 13,
   "metadata": {
    "collapsed": true
   },
   "outputs": [],
   "source": [
    "session = DBSession()"
   ]
  },
  {
   "cell_type": "markdown",
   "metadata": {},
   "source": [
    "Insert 100 new objects into the database with `ra` and `dec` values of `10.23` and `-32.36` respectively. "
   ]
  },
  {
   "cell_type": "code",
   "execution_count": 16,
   "metadata": {
    "collapsed": false
   },
   "outputs": [],
   "source": [
    "for i in range(100):\n",
    "    ra = random.uniform(9.0, 11.0)\n",
    "    dec = random.uniform(-30.0, -33.0)\n",
    "    new_object = Object(ra=ra, dec=dec)\n",
    "    session.add(new_object)\n",
    "    session.commit()"
   ]
  },
  {
   "cell_type": "markdown",
   "metadata": {},
   "source": [
    "Create a 100 distance entries for the object we inserted above."
   ]
  },
  {
   "cell_type": "code",
   "execution_count": 18,
   "metadata": {
    "collapsed": false
   },
   "outputs": [],
   "source": [
    "for i in range(100):\n",
    "    d = random.uniform(40, 60)\n",
    "    new_distance = Distance(distance=d, object_id=i)\n",
    "    session.add(new_distance)\n",
    "    session.commit()"
   ]
  },
  {
   "cell_type": "markdown",
   "metadata": {},
   "source": [
    "## Querying Data"
   ]
  },
  {
   "cell_type": "markdown",
   "metadata": {},
   "source": [
    "Make a query for the first object in the database and see its attributes."
   ]
  },
  {
   "cell_type": "code",
   "execution_count": 19,
   "metadata": {
    "collapsed": false
   },
   "outputs": [
    {
     "data": {
      "text/plain": [
       "(1, 9.491550129901015, -31.495161639778225)"
      ]
     },
     "execution_count": 19,
     "metadata": {},
     "output_type": "execute_result"
    }
   ],
   "source": [
    "obj = session.query(Object).first()\n",
    "obj.id, obj.ra, obj.dec"
   ]
  },
  {
   "cell_type": "markdown",
   "metadata": {},
   "source": [
    "Retrieve all distances in form of a numpy array. "
   ]
  },
  {
   "cell_type": "code",
   "execution_count": 20,
   "metadata": {
    "collapsed": false
   },
   "outputs": [
    {
     "data": {
      "text/plain": [
       "array([ 41.55631757,  57.90184078,  51.29596897,  45.87167048,\n",
       "        48.98650734,  43.19694914,  54.90462618,  47.85986943,\n",
       "        56.73155748,  59.09925831,  47.38922876,  55.26618305,\n",
       "        58.9605005 ,  48.86112729,  50.92573277,  42.07525971,\n",
       "        58.19197932,  49.67756417,  48.50427822,  55.6368257 ,\n",
       "        56.58733926,  54.41680138,  49.73433608,  44.98956906,\n",
       "        51.47046032,  55.88777029,  55.99326791,  54.82224542,\n",
       "        40.54903374,  45.4968623 ,  42.01675236,  54.33336558,\n",
       "        47.30987913,  52.43771133,  58.15421697,  47.81324135,\n",
       "        51.09859509,  43.04859157,  52.7484232 ,  40.2992613 ,\n",
       "        55.5925934 ,  42.39493602,  56.35458455,  50.50169572,\n",
       "        56.20704611,  45.04368455,  53.62119493,  54.19584577,\n",
       "        53.83046376,  44.16106615,  57.96905467,  43.15174839,\n",
       "        55.21043269,  54.61693205,  55.83102914,  44.76144331,\n",
       "        59.85239727,  57.82957266,  52.23613573,  52.94035273,\n",
       "        58.72359882,  53.52323215,  43.3831426 ,  52.53134056,\n",
       "        50.70942249,  54.81762198,  42.40079787,  47.78604162,\n",
       "        42.49620489,  45.04549552,  47.17993989,  59.05883597,\n",
       "        59.15668961,  53.19910213,  51.83799032,  59.04980122,\n",
       "        40.78058662,  52.15775483,  55.97835426,  42.96964066,\n",
       "        58.97370028,  44.27305371,  42.31485293,  49.51034649,\n",
       "        58.53326007,  46.76643665,  58.85030134,  41.07682219,\n",
       "        55.6910029 ,  47.26540077,  58.3386899 ,  41.00665543,\n",
       "        56.50090144,  47.92097549,  54.0704567 ,  56.11005261,\n",
       "        47.0635912 ,  46.12955832,  52.67206587,  56.59542106])"
      ]
     },
     "execution_count": 20,
     "metadata": {},
     "output_type": "execute_result"
    }
   ],
   "source": [
    "dist = session.query(Distance)\n",
    "np.array([d.distance for d in dist])"
   ]
  },
  {
   "cell_type": "markdown",
   "metadata": {},
   "source": [
    "Apply `filter()` method after a query to get specific results."
   ]
  },
  {
   "cell_type": "code",
   "execution_count": 27,
   "metadata": {
    "collapsed": false
   },
   "outputs": [
    {
     "data": {
      "text/plain": [
       "58.97370028186927"
      ]
     },
     "execution_count": 27,
     "metadata": {},
     "output_type": "execute_result"
    }
   ],
   "source": [
    "d = session.query(Distance).filter(Distance.object_id==80)\n",
    "d.first().distance"
   ]
  }
 ],
 "metadata": {
  "kernelspec": {
   "display_name": "Python 2",
   "language": "python",
   "name": "python2"
  },
  "language_info": {
   "codemirror_mode": {
    "name": "ipython",
    "version": 2
   },
   "file_extension": ".py",
   "mimetype": "text/x-python",
   "name": "python",
   "nbconvert_exporter": "python",
   "pygments_lexer": "ipython2",
   "version": "2.7.10"
  }
 },
 "nbformat": 4,
 "nbformat_minor": 0
}
