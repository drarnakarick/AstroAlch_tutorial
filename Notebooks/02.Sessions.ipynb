{
 "cells": [
  {
   "cell_type": "markdown",
   "metadata": {},
   "source": [
    "# Tutorial 2: Interacting with Databases in Sessions\n",
    "\n",
    "In this tutorial we will create and then interact with a *relational* SQLite database, using `sqlalchemy`'s `Session` object.\n",
    "\n",
    "We will:\n",
    "\n",
    "* Create a relational database containing two linked tables: \"Objects\" (with ID, ra and dec) and \"Distances\" (with ID and distance).\n",
    "* Retrieve data into numpy arrays so that it can be used For Science.\n",
    "\n",
    "This tutorial was adapted for astronomy from [the one at `pythoncentral.io`](http://pythoncentral.io/sqlalchemy-orm-examples/).\n",
    "\n",
    "### Requirements\n",
    "\n",
    "You will need to have `sqlalchemy` installed."
   ]
  },
  {
   "cell_type": "code",
   "execution_count": null,
   "metadata": {
    "collapsed": true
   },
   "outputs": [],
   "source": []
  }
 ],
 "metadata": {
  "kernelspec": {
   "display_name": "Python 2",
   "language": "python",
   "name": "python2"
  },
  "language_info": {
   "codemirror_mode": {
    "name": "ipython",
    "version": 2
   },
   "file_extension": ".py",
   "mimetype": "text/x-python",
   "name": "python",
   "nbconvert_exporter": "python",
   "pygments_lexer": "ipython2",
   "version": "2.7.12"
  }
 },
 "nbformat": 4,
 "nbformat_minor": 0
}
