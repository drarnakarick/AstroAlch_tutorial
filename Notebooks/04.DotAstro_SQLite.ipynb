{
 "cells": [
  {
   "cell_type": "markdown",
   "metadata": {},
   "source": [
    "# Creating Relational Databases using SQLite & DB Browser\n",
    "\n",
    "\n",
    "### Acknowledgements\n",
    "\n",
    "This tutorial is based on [Dany Vohl's](http://astronomy.swin.edu.au/staff/dvohl.htm) [(Tweet @dvohl)]( https://twitter.com/danyvohl) _Relational Databases and SQL_ workshop and tutorial materials for [Swinburne Hacker Within](http://www.thehackerwithin.org/swinburne/posts/databases01) and [.Astronomy7](http://macrocosme.github.io/dotastronomy_seven.html). \n",
    "\n",
    "Made with love at [@AstroHackWeek](https://twitter.com/AstroHackWeek)  \n",
    "by [@drarnakarick](http://github.com/drarnakarick/)\n",
    "\n",
    "\n",
    "### Goals & Objectives\n",
    "\n",
    "* Creating a database of Hubble galaxy morphology classifications using two methods: \n",
    "    * (1) using sqlite3 & DB Browser\n",
    "    * (2) using Python & SQL Alchemy\n",
    "* Introduce common database terminology \n",
    "* Introduce the SQL syntax\n",
    "* Understand and write basic SQL queries \n",
    "\n",
    "## Refresher: What are relational databases and why are they useful?\n",
    "\n",
    "Include the slides from Paul Hancock - ICRAR\n",
    "\n",
    "* Slides from the ANITA workshop: https://dl.dropboxusercontent.com/u/4038842/ANITA%20DB-SQL-Python.pdf\n",
    "* Talk from the ANITA workshop:  https://www.youtube.com/watch?v=oMkvPo9tyKA \n",
    "\n",
    "### Relational databases 101\n",
    "\n",
    "A relational database (DB) is a digital representation of a relational model of data (how information is linked together). A typical DB stores the organized data into tables (or relations). In a table, the different columns correspond to the fields (or attribute) of our data and the rows correspond to the different records (or tuples). \n",
    "<img src=\"http://macrocosme.github.io/db/images/640px-Relational_database_terms.svg.png\"> \n",
    "\n",
    "Figure 1: A simple relational database (source: wikipedia).\n"
   ]
  },
  {
   "cell_type": "markdown",
   "metadata": {},
   "source": [
    "## Tutorial 1:  Using SQLite & DB Browser"
   ]
  },
  {
   "cell_type": "markdown",
   "metadata": {},
   "source": [
    "### The database tool for this tutorial\n",
    "\n",
    "There are many digital database software out there. Some are easy to use, some are slightly more complicated. Some are free, some are proprietary. But they all have more or less the same basis, which we'll cover here (a portion of it anyway!) Most of them can be used directly from the terminal, but some also provide a **Graphical User Interface (GUI)**. A GUI can be extremely useful, especially when you start dealing with relational databases.\n",
    "\n",
    "For this tutorial, we will use **SQLite** along with **DB Browser for SQLite** (below left). You may already have SQLite on your machine.\n",
    "\n",
    "Other popular options include **MySQL** (below right – workbench GUI  e.g. used for LSST) or **PostgreSQL** (along with pgAdmin as GUI). Both SQLite and MySQL are free, but MySQL is a heavier solution."
   ]
  },
  {
   "cell_type": "markdown",
   "metadata": {},
   "source": [
    "<img align=\"left\" src=\"http://macrocosme.github.io/db/images/sqlitebrowser.png\" width=50%><img align=\"right\" src=\"http://macrocosme.github.io/db/images/fig8.png\" width=50%> "
   ]
  },
  {
   "cell_type": "markdown",
   "metadata": {},
   "source": [
    "#### 1. Installing SQLite and DB Browser\n",
    "\n",
    "* **sqlite3** comes pre-installed on Mac OS X and Linux. Windows users can download SQLite from the [SQLite website](https://sqlite.org/download.html)\n",
    "\n",
    "* **DB Browser for SQLite** can be downloaded [here](http://sqlitebrowser.org/). What is it? DB Browser is a high quality, visual, open source tool to create, design, and edit database files compatible with SQLite. It is for users and developers wanting to create databases, search, and edit data. It uses a familiar spreadsheet-like interface, and you don't need to learn complicated SQL commands. It's a useful starting point for those who are unfamiliar with databses.\n",
    "\n",
    "### Using databases to organise data\n",
    "\n",
    "Say we want to create a database to represent a catalogue of galaxies classified by morphologies. We would like to have a list of all galaxies from our survey and the morphology to which they belong. An easy way to represent the information would be to put everything together in one table, with galaxies in column A and morphologies in column B\n",
    "\n",
    "The problem with this is that if you delete all entries (rows), you would not only delete your list of galaxies, but all morphologies as well. You would therefore have to start from scratch.\n",
    "\n",
    "Instead we want to keep independent entities separate and **create relations** between them. This process is called **normalisation**.\n",
    "\n",
    "\n",
    "\n"
   ]
  },
  {
   "cell_type": "markdown",
   "metadata": {},
   "source": [
    "## Tutorial 2: \n",
    "\n",
    "### Creating the same database of Hubble galaxy morphology classifications using Python & SQL Alchemy\n",
    "\n"
   ]
  }
 ],
 "metadata": {
  "anaconda-cloud": {},
  "kernelspec": {
   "display_name": "Python [Root]",
   "language": "python",
   "name": "Python [Root]"
  },
  "language_info": {
   "codemirror_mode": {
    "name": "ipython",
    "version": 3
   },
   "file_extension": ".py",
   "mimetype": "text/x-python",
   "name": "python",
   "nbconvert_exporter": "python",
   "pygments_lexer": "ipython3",
   "version": "3.5.2"
  }
 },
 "nbformat": 4,
 "nbformat_minor": 0
}
