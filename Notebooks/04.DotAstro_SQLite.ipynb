{
 "cells": [
  {
   "cell_type": "markdown",
   "metadata": {},
   "source": [
    "# Introduction to Relational Databases and SQL for Astronomy\n"
   ]
  },
  {
   "cell_type": "markdown",
   "metadata": {},
   "source": [
    "### Acknowledgements"
   ]
  },
  {
   "cell_type": "markdown",
   "metadata": {},
   "source": [
    "This tutorial is based on [Dany Vohl's](http://astronomy.swin.edu.au/staff/dvohl.htm) [(Tweet @dvohl)]( https://twitter.com/danyvohl) _Relational Databases and SQL_ workshop and tutorial materials for [Swinburne Hacker Within](http://www.thehackerwithin.org/swinburne/posts/databases01) and [.Astronomy7](http://macrocosme.github.io/dotastronomy_seven.html). Made with love at [@AstroHackWeek](https://twitter.com/AstroHackWeek)  "
   ]
  },
  {
   "cell_type": "markdown",
   "metadata": {},
   "source": [
    "## What are relational databases and why are they useful?\n",
    "\n",
    "Include the slides from Paul Hancock - ICRAR\n",
    "\n",
    "* Slides from the ANITA workshop: https://dl.dropboxusercontent.com/u/4038842/ANITA%20DB-SQL-Python.pdf\n",
    "* Talk from the ANITA workshop:  https://www.youtube.com/watch?v=oMkvPo9tyKA"
   ]
  },
  {
   "cell_type": "markdown",
   "metadata": {},
   "source": [
    "## Creating a database using SQLite and DB Browser"
   ]
  },
  {
   "cell_type": "code",
   "execution_count": null,
   "metadata": {
    "collapsed": true
   },
   "outputs": [],
   "source": []
  }
 ],
 "metadata": {
  "kernelspec": {
   "display_name": "Python [Root]",
   "language": "python",
   "name": "Python [Root]"
  },
  "language_info": {
   "codemirror_mode": {
    "name": "ipython",
    "version": 3
   },
   "file_extension": ".py",
   "mimetype": "text/x-python",
   "name": "python",
   "nbconvert_exporter": "python",
   "pygments_lexer": "ipython3",
   "version": "3.5.2"
  }
 },
 "nbformat": 4,
 "nbformat_minor": 0
}
