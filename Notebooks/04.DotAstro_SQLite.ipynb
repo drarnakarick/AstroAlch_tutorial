{
 "cells": [
  {
   "cell_type": "markdown",
   "metadata": {},
   "source": [
    "# Creating Relational Databases using SQLite & DB Browser\n",
    "\n",
    "\n",
    "### Acknowledgements\n",
    "\n",
    "This tutorial is based on [Dany Vohl's](http://astronomy.swin.edu.au/staff/dvohl.htm) [(Tweet @dvohl)]( https://twitter.com/danyvohl) _Relational Databases and SQL_ workshop and tutorial materials for [Swinburne Hacker Within](http://www.thehackerwithin.org/swinburne/posts/databases01) and [.Astronomy7](http://macrocosme.github.io/dotastronomy_seven.html). \n",
    "\n",
    "![badge-img](https://img.shields.io/badge/Made%20at-%23AstroHackWeek-8063d5.svg?style=flat)\n",
    "Made with love at [@AstroHackWeek](https://twitter.com/AstroHackWeek) by [@drarnakarick](http://github.com/drarnakarick/)\n",
    "\n",
    "\n",
    "### Goals & Objectives\n",
    "\n",
    "* Creating a database of Hubble galaxy morphology classifications using two methods: \n",
    "    * (1) using sqlite3 & DB Browser\n",
    "    * (2) using Python & SQL Alchemy\n",
    "* Introduce common database terminology \n",
    "* Introduce the SQL syntax\n",
    "* Understand and write basic SQL queries \n",
    "\n",
    "## Refresher: What are relational databases and why are they useful?\n",
    "\n",
    "Include the slides from Paul Hancock - ICRAR\n",
    "\n",
    "* Slides from the ANITA workshop: https://dl.dropboxusercontent.com/u/4038842/ANITA%20DB-SQL-Python.pdf\n",
    "* Talk from the ANITA workshop:  https://www.youtube.com/watch?v=oMkvPo9tyKA \n",
    "\n",
    "### Relational databases 101\n",
    "\n",
    "A relational database (DB) is a digital representation of a relational model of data (how information is linked together). A typical DB stores the organized data into tables (or relations). In a table, the different columns correspond to the fields (or attribute) of our data and the rows correspond to the different records (or tuples). \n",
    "<img src=\"http://macrocosme.github.io/db/images/640px-Relational_database_terms.svg.png\"> \n",
    "\n",
    "Figure 1: A simple relational database (source: wikipedia).\n"
   ]
  },
  {
   "cell_type": "markdown",
   "metadata": {},
   "source": [
    "## Tutorial 1:  Using SQLite & DB Browser"
   ]
  },
  {
   "cell_type": "markdown",
   "metadata": {},
   "source": [
    "### The database tool for this tutorial\n",
    "\n",
    "There are many digital database software out there. Some are easy to use, some are slightly more complicated. Some are free, some are proprietary. But they all have more or less the same basis, which we'll cover here (a portion of it anyway!) Most of them can be used directly from the terminal, but some also provide a **Graphical User Interface (GUI)**. A GUI can be extremely useful, especially when you start dealing with relational databases.\n",
    "\n",
    "For this tutorial, we will use **SQLite** along with **DB Browser for SQLite** (below left). You may already have SQLite on your machine.\n",
    "\n",
    "Other popular options include **MySQL** (below right – workbench GUI  e.g. used for LSST) or **PostgreSQL** (along with pgAdmin as GUI). Both SQLite and MySQL are free, but MySQL is a heavier solution."
   ]
  },
  {
   "cell_type": "markdown",
   "metadata": {},
   "source": [
    "<img align=\"left\" src=\"http://macrocosme.github.io/db/images/sqlitebrowser.png\" width=50%><img align=\"right\" src=\"http://macrocosme.github.io/db/images/fig8.png\" width=50%> "
   ]
  },
  {
   "cell_type": "markdown",
   "metadata": {},
   "source": [
    "#### 1. Installing SQLite and DB Browser\n",
    "\n",
    "* **sqlite3** comes pre-installed on Mac OS X and Linux. Windows users can download SQLite from the [SQLite website](https://sqlite.org/download.html)\n",
    "\n",
    "* **DB Browser for SQLite** can be downloaded [here](http://sqlitebrowser.org/). What is it? DB Browser is a high quality, visual, open source tool to create, design, and edit database files compatible with SQLite. It is for users and developers wanting to create databases, search, and edit data. It uses a familiar spreadsheet-like interface, and you don't need to learn complicated SQL commands. It's a useful starting point for those who are unfamiliar with the structure of relational databses.\n",
    "\n",
    "### Using databases to organise data\n",
    "\n",
    "Say we want to create a database to represent a catalogue of galaxies classified by morphologies. We would like to have a list of all galaxies from our survey and the morphology to which they belong. An easy way to represent the information would be to put everything together in one table (or spreadsheet or ascii file), with galaxies in column A and morphologies in column B.\n",
    "\n",
    "The problem with this is that if you delete all entries (rows), you would not only delete your list of galaxies, but all morphologies as well. You would therefore have to start from scratch.\n",
    "\n",
    "### Splitting and creating relations\n",
    "\n",
    "To keep our data organized, it's good practice to categorize our information into logical groups. For example you might want to keep all data associated with images (e.g. photometric data) and all data associated with spectra (e.g. radial velocities, stellar templates used, correlation metrics) separate as independent tables or **entities**. You might also want to separate out galaxy ids and morphologies as separate entities (particularly if there are multiples of both) And then **create relations** between them. This process is called **normalisation**. \n",
    "\n",
    "To demonstrate this we will start playing with DB Browser."
   ]
  },
  {
   "cell_type": "markdown",
   "metadata": {},
   "source": [
    "**Step 1: Launch the DB Browser** (from /Applications on MacOSX)\n",
    "\n",
    "- click on 'New Database' and call it something like 'sqlitedb_tutorial.db'\n",
    "- Start creating your first table: MORPHOLOGY\n",
    "\n",
    "Using the GUI buttons, dropdown menues and input/tick boxes, the Galaxy and Morphology data can be structured into two separate tables: MORPHOLOGY and GALAXY, as shown in the figures  below (Note: Dany's computer is by default \"frenglish\". Your GIUs should be in english)\n",
    "\n",
    "One of the nice things about learning SQL this way, is that you very quickly learn how SQL queries are built up. \n"
   ]
  },
  {
   "cell_type": "markdown",
   "metadata": {},
   "source": [
    "<img align=\"left\" src=\"http://macrocosme.github.io/db/images/dotAstro/morphology.png\" width=50%>\n",
    "<img align=\"right\" src=\"http://macrocosme.github.io/db/images/dotAstro/galaxy_long.png\" width=50%>"
   ]
  },
  {
   "cell_type": "markdown",
   "metadata": {},
   "source": [
    "\n",
    "_SQL syntax that defines the table:_\n",
    "```sql\n",
    "CREATE TABLE `MORPHOLOGY` (\n",
    "  `morphologyNo`\tINTEGER,\n",
    "  `morphologyName`  TEXT\n",
    " );\n",
    "```\n",
    "\n",
    "**morphologyNo** is basically an ID (and in this case an INTEGER). In this case its essentially your top-level ID for this table, so you should make it the **PRIMARY KEY(PK)**.  It should also be **NON-NULL (No)** and **UNIQUE (U)**. \n",
    "\n",
    "The **PRIMARY KEY** constraint uniquely identifies each record in a database table. Primary keys must contain UNIQUE values. Most tables should have a primary key, and each table can have only ONE primary key.\n",
    "\n",
    "The **AUTOINCREMENT** keyword imposes extra CPU, memory, disk space, and disk I/O overhead and should be avoided if not strictly needed. It is usually not needed. However, if the AUTOINCREMENT keyword appears after INTEGER PRIMARY KEY, that changes the automatic ROW-ID assignment algorithm to prevent the reuse of ROW-IDs over the lifetime of the database. In other words, the purpose of AUTOINCREMENT is to prevent the reuse of ROW-IDs from previously deleted rows.\n",
    "\n",
    "_SQL syntax that defines the table:_\n",
    "```sql\n",
    "CREATE TABLE `MORPHOLOGY` (\n",
    "\t`MorphologyNo`\tINTEGER NOT NULL PRIMARY KEY AUTOINCREMENT UNIQUE,\n",
    "\t`MorphologyName`\tTEXT NOT NULL\n",
    ");\n",
    "```\n",
    "\n",
    "**Step 2: Go ahead and create a second GALAXY table**\n",
    "\n",
    "Add the attributes (fields), 'galaxyNo', 'galaxyName', and 'morphologyNo'. It should like the the above figure on the right.\n",
    "\n",
    "_SQL syntax that defines the table:_\n",
    "```sql\n",
    "CREATE TABLE `GALAXY` (\n",
    "\t`GalaxyNo`\tINTEGER NOT NULL PRIMARY KEY AUTOINCREMENT UNIQUE,\n",
    "\t`GalaxyName`\tTEXT,\n",
    "\t`MorphologyNo`\tINTEGER\n",
    ");\n",
    "```\n",
    "\n",
    "Note that **MorphologyNo** appears in both tables.\n",
    "\n",
    "We now have created the relation between the tables, having the morphology data independent to the galaxy data, and associating each galaxy to a specific morphology.\n",
    "\n",
    "The relationship between MORPHOLOGY and GALAXY is built on the attribute **morphologyNo**. This was made possible by setting up the \"Foreign Key\" during the creation of the table GALAXY with 'MORPHOLOGY(morphologyNo)'. This means the morphologies don't need to be explicitly defined in each of the tables -- kind of the point the whole excercise.\n",
    "\n",
    "Therefore, when we insert a new galaxy to the database along with its morphology, we will get an error if we do not provide a valid morphologyNo. In other word, the insertion won't happen if we want to assign a morphology that doesn't exist.\n",
    "\n",
    "### Inserting Data\n",
    "\n",
    "Of course we don't want to have to insert all the data row by row using the DB Browser GUIs, however this is how you could do. Save the table attributes you created and then click on 'Browse Data' in the main DB Browser GUI. You can now select a table to add data to -- for example add the morphology data such that it looks like this:\n",
    "\n",
    "<img alight=\"right\" src=\"http://macrocosme.github.io/db/images/dotAstro/morphology_1-10.png\">\n",
    "\n",
    "### Interacting with the database using SQL and not the GUI\n",
    "\n",
    "Now that we have a structure for our database, it would be nice to be able to interact with it. For instance, it would be nice to add new records of galaxies or new morphologies. To do this, we use a language called SQL. \n",
    "\n",
    "The GUI we use here helps lets us create tables and insert fields without having to type any line of SQL. However, once you know SQL, it's quite practical and easy to use. For instance, you won't need to remember what is the morphologyNo to insert a new galaxy (which can be very impractical if you have a lot of items in a table).\n",
    "\n",
    "The SQL language consists of a only few key words. Some keywords were already shown in the table creation figures (e.g. **CREATE TABLE**). Some important keywords include:\n",
    "\n",
    "```sql\n",
    "INSERT, INTO,  VALUES {\n",
    "\n",
    "SELECT, FROM {\n",
    "\n",
    "JOIN, ON {\n",
    "\n",
    "WHERE, GROUP BY, HAVING {\n",
    "\n",
    "ORDER BY {\n",
    "```\n",
    "\n",
    "More information about the multiple keywords and how to use them can be found here. Also, ways to combine and use them is well explained on the Software Carpentry webpage.\n",
    "\n",
    "\n"
   ]
  },
  {
   "cell_type": "markdown",
   "metadata": {},
   "source": [
    "## Tutorial 2: \n",
    "\n",
    "### Creating the same database of Hubble galaxy morphology classifications using Python & SQL Alchemy\n",
    "\n",
    "\n",
    "\n",
    "![badge-img](https://img.shields.io/badge/Made%20at-%23AstroHackWeek-8063d5.svg?style=flat)\n"
   ]
  },
  {
   "cell_type": "code",
   "execution_count": null,
   "metadata": {
    "collapsed": true
   },
   "outputs": [],
   "source": []
  }
 ],
 "metadata": {
  "anaconda-cloud": {},
  "kernelspec": {
   "display_name": "Python [Root]",
   "language": "python",
   "name": "Python [Root]"
  },
  "language_info": {
   "codemirror_mode": {
    "name": "ipython",
    "version": 3
   },
   "file_extension": ".py",
   "mimetype": "text/x-python",
   "name": "python",
   "nbconvert_exporter": "python",
   "pygments_lexer": "ipython3",
   "version": "3.5.2"
  }
 },
 "nbformat": 4,
 "nbformat_minor": 0
}
